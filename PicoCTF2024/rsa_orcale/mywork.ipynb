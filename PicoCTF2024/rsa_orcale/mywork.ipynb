{
 "cells": [
  {
   "cell_type": "code",
   "execution_count": null,
   "metadata": {},
   "outputs": [],
   "source": [
    "from pwn import *"
   ]
  },
  {
   "cell_type": "code",
   "execution_count": null,
   "metadata": {},
   "outputs": [
    {
     "name": "stdout",
     "output_type": "stream",
     "text": [
      "[x] Opening connection to titan.picoctf.net on port 59799\n",
      "[x] Opening connection to titan.picoctf.net on port 59799: Trying 3.139.174.234\n",
      "[+] Opening connection to titan.picoctf.net on port 59799: Done\n",
      "*****************************************\n",
      "****************THE ORACLE***************\n",
      "*****************************************\n",
      "what should we do for you? \n",
      "E --> encrypt D --> decrypt. \n",
      "\n",
      "enter text to encrypt (encoded length must be less than keysize): \n",
      "5067313465613043651275429665315895824157755779222372979446076012356324498190828210335763979330272318657269048435311897896433721115606764442199497891219230\n"
     ]
    },
    {
     "name": "stderr",
     "output_type": "stream",
     "text": [
      "C:\\Users\\lye01\\AppData\\Local\\Temp\\ipykernel_41316\\1003702859.py:6: BytesWarning: Text is not bytes; assuming ASCII, no guarantees. See https://docs.pwntools.com/#bytes\n",
      "  conn.recvuntil('mod n) ')\n"
     ]
    }
   ],
   "source": [
    "conn = remote(\"titan.picoctf.net\", PORT)\n",
    "print(conn.recv().decode())\n",
    "conn.sendline(b'E')\n",
    "print(conn.recv().decode())\n",
    "conn.sendline(b'\\x02')\n",
    "conn.recvuntil('mod n) ')\n",
    "encrypted_string = conn.recvline()\n",
    "encrypted_number = int(encrypted_string.decode())\n",
    "print(encrypted_number)"
   ]
  },
  {
   "cell_type": "code",
   "execution_count": null,
   "metadata": {},
   "outputs": [],
   "source": [
    "# read the password\n",
    "\n",
    "with open(\"password.enc\") as file:\n",
    "    password = file.read()\n",
    "\n",
    "password = int(password)"
   ]
  },
  {
   "cell_type": "code",
   "execution_count": null,
   "metadata": {},
   "outputs": [
    {
     "name": "stdout",
     "output_type": "stream",
     "text": [
      "\n",
      "what should we do for you? \n",
      "E --> encrypt D --> decrypt. \n",
      "\n",
      "Enter text to decrypt: \n",
      "da099\n"
     ]
    },
    {
     "name": "stderr",
     "output_type": "stream",
     "text": [
      "C:\\Users\\lye01\\AppData\\Local\\Temp\\ipykernel_41316\\3614809504.py:7: BytesWarning: Text is not bytes; assuming ASCII, no guarantees. See https://docs.pwntools.com/#bytes\n",
      "  conn.recvuntil('mod n): ')\n"
     ]
    }
   ],
   "source": [
    "conn.sendline(b'D')\n",
    "print(conn.recv().decode())\n",
    "print(conn.recv().decode())\n",
    "to_decrypt = encrypted_number * password\n",
    "conn.sendline(str(to_decrypt).encode())\n",
    "# conn.recv\n",
    "conn.recvuntil('mod n): ')\n",
    "decipher = conn.recvline().decode()\n",
    "decipher = int(decipher, 16) // 2\n",
    "print(bytes.fromhex(hex(decipher)[2:]).decode('ascii'))"
   ]
  }
 ],
 "metadata": {
  "kernelspec": {
   "display_name": "Python 3",
   "language": "python",
   "name": "python3"
  },
  "language_info": {
   "codemirror_mode": {
    "name": "ipython",
    "version": 3
   },
   "file_extension": ".py",
   "mimetype": "text/x-python",
   "name": "python",
   "nbconvert_exporter": "python",
   "pygments_lexer": "ipython3",
   "version": "3.10.5"
  }
 },
 "nbformat": 4,
 "nbformat_minor": 2
}
