{
 "cells": [
  {
   "cell_type": "code",
   "execution_count": 48,
   "id": "8ef1359c",
   "metadata": {},
   "outputs": [],
   "source": [
    "cipher = [33588, 276168, 261240, 302292, 343344, 328416, 242580, 85836, 82104, 156744, 0, 309756, 78372, 18660, 253776, 0, 82104, 320952, 3732, 231384, 89568, 100764, 22392, 22392, 63444, 22392, 97032, 190332, 119424, 182868, 97032, 26124, 44784, 63444]"
   ]
  },
  {
   "cell_type": "code",
   "execution_count": 49,
   "id": "a0bec0c7",
   "metadata": {},
   "outputs": [],
   "source": [
    "a = 89\n",
    "b = 27\n",
    "g = 31\n",
    "p = 97\n",
    "text_key = b\"trudeau\"\n",
    "semi_cipher = b\"\"\n",
    "shared_key = (g ** ((a * b) % (p-1))) % p\n",
    "\n",
    "for c in cipher:\n",
    "    assert c % (shared_key * 311) == 0\n",
    "    semi_cipher += bytes([c // (shared_key * 311)])"
   ]
  },
  {
   "cell_type": "code",
   "execution_count": 50,
   "id": "d20e770b",
   "metadata": {},
   "outputs": [
    {
     "name": "stdout",
     "output_type": "stream",
     "text": [
      "b'picoCTF{custom_d2cr0pt6d_dc499538}'\n"
     ]
    }
   ],
   "source": [
    "message = b\"\"\n",
    "\n",
    "for i, c in enumerate(semi_cipher):\n",
    "    n = i % (len(text_key))\n",
    "    message += bytes([c^(text_key[n])])\n",
    "\n",
    "print(message[::-1])"
   ]
  }
 ],
 "metadata": {
  "kernelspec": {
   "display_name": "Python 3",
   "language": "python",
   "name": "python3"
  },
  "language_info": {
   "codemirror_mode": {
    "name": "ipython",
    "version": 3
   },
   "file_extension": ".py",
   "mimetype": "text/x-python",
   "name": "python",
   "nbconvert_exporter": "python",
   "pygments_lexer": "ipython3",
   "version": "3.10.5"
  }
 },
 "nbformat": 4,
 "nbformat_minor": 5
}
